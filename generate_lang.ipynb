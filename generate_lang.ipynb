{
 "cells": [
  {
   "cell_type": "markdown",
   "metadata": {},
   "source": [
    "## Imports and Constants"
   ]
  },
  {
   "cell_type": "code",
   "execution_count": 26,
   "metadata": {},
   "outputs": [],
   "source": [
    "import os\n",
    "import pathlib as pl\n",
    "import json\n",
    "VERSION = \"1.20.1\"\n",
    "MC_IN = pl.Path(\n",
    "    f\"{os.environ['HOME']}\",\n",
    "    \"Library\",\n",
    "    \"Application Support\",\n",
    "    \"minecraft\",\n",
    "    \"versions\",\n",
    "    VERSION,\n",
    "    VERSION,\n",
    "    \"assets\",\n",
    "    \"minecraft\",\n",
    "    \"lang\",\n",
    "    \"en_us.json\"\n",
    ")\n",
    "IN = pl.Path('lang.json')\n",
    "OUT = pl.Path(\"assets/minecraft/lang/en_us.json\")\n",
    "\n",
    "# a list of prefixes to clear\n",
    "DONT_CLEAR_PREFIXES = [\n",
    "    'options',\n",
    "    'gui',\n",
    "    'menu',\n",
    "    'pack',\n",
    "    'selectWorld',\n",
    "]"
   ]
  },
  {
   "cell_type": "markdown",
   "metadata": {},
   "source": [
    "## Read Json"
   ]
  },
  {
   "cell_type": "code",
   "execution_count": 27,
   "metadata": {},
   "outputs": [],
   "source": [
    "\n",
    "# get base lang\n",
    "with open(MC_IN, 'r') as f:\n",
    "    mc_in_lang: dict[str,str] = json.load(f)\n",
    "mc_in_lang = {\n",
    "    k: k\n",
    "    for k, v\n",
    "    in mc_in_lang.items()\n",
    "    if k.split('.')[0] not in DONT_CLEAR_PREFIXES\n",
    "}\n",
    "\n",
    "# get new lang\n",
    "with open(\"lang.json\", 'r') as f:\n",
    "    in_lang: dict[str,str] = json.load(f)\n",
    "len(in_lang)\n",
    "\n",
    "\n",
    "# write new lang to file\n",
    "os.makedirs(OUT.parent, exist_ok=True)\n",
    "out_lang = {\n",
    "    **mc_in_lang,\n",
    "    **in_lang\n",
    "}\n",
    "with open(OUT, 'w') as f:\n",
    "    json.dump(out_lang, f, indent=4, ensure_ascii=False)"
   ]
  },
  {
   "cell_type": "code",
   "execution_count": null,
   "metadata": {},
   "outputs": [],
   "source": []
  }
 ],
 "metadata": {
  "kernelspec": {
   "display_name": "Python 3",
   "language": "python",
   "name": "python3"
  },
  "language_info": {
   "codemirror_mode": {
    "name": "ipython",
    "version": 3
   },
   "file_extension": ".py",
   "mimetype": "text/x-python",
   "name": "python",
   "nbconvert_exporter": "python",
   "pygments_lexer": "ipython3",
   "version": "3.11.0"
  },
  "orig_nbformat": 4
 },
 "nbformat": 4,
 "nbformat_minor": 2
}
